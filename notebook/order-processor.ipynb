{
 "cells": [
  {
   "cell_type": "code",
   "execution_count": 109,
   "id": "ec6f4528-550c-4030-94d0-a721f864c04d",
   "metadata": {},
   "outputs": [],
   "source": [
    "#import common libs\n",
    "import numpy as np\n",
    "import pandas as pd\n",
    "import os\n",
    "from datetime import datetime\n",
    "\n",
    "#define CSV's paths\n",
    "IN_PATH_CSV = \"../data/entrada-produtos.csv\"\n",
    "OUT_PATH_CSV = \"../data/saida-produtos.csv\"\n",
    "FINAL_PATH_CSV = \"../data/saida-final.csv\"\n",
    "\n",
    "#date format\n",
    "DATE_FORMAT = \"%d/%m/%Y\"\n",
    "\n",
    "#read CSVs\n",
    "ins = pd.read_csv(IN_PATH_CSV)\n",
    "outs = pd.read_csv(OUT_PATH_CSV)"
   ]
  },
  {
   "cell_type": "code",
   "execution_count": 121,
   "id": "508255db-3038-447c-a52e-82a981c0336b",
   "metadata": {},
   "outputs": [],
   "source": [
    "data_compra = None\n",
    "data_venda = None\n",
    "final = np.array([[\"codigo-fornecedor\", \"dias\"]])\n",
    "\n",
    "for index, id_fornecedor in enumerate(outs[\"codigo-fornecedor\"]):    \n",
    "    list_of_ins = ins[ins[\"codigo-fornecedor\"] == id_fornecedor]\n",
    "    if not list_of_ins.empty:\n",
    "        codigo_fornecedor = list_of_ins.iloc[0][\"codigo-fornecedor\"]\n",
    "        data_venda = datetime.strptime(outs.iloc[index][\"data-saida\"], DATE_FORMAT)\n",
    "        data_compra = datetime.strptime(list_of_ins.iloc[0][\"data-entrada\"], DATE_FORMAT)\n",
    "        diff = (data_venda - data_compra).days\n",
    "        if diff > 0:\n",
    "            final = np.append(final, [codigo_fornecedor,diff])\n",
    "reshaped_matrix = final.reshape(-1,2) \n",
    "final_df = pd.DataFrame(reshaped_matrix)\n",
    "final_df.to_csv(FINAL_PATH_CSV, index=False, header=False)"
   ]
  },
  {
   "cell_type": "code",
   "execution_count": null,
   "id": "bb28d829-e071-44d7-a201-af632e22d16e",
   "metadata": {},
   "outputs": [],
   "source": []
  }
 ],
 "metadata": {
  "kernelspec": {
   "display_name": "Python 3 (ipykernel)",
   "language": "python",
   "name": "python3"
  },
  "language_info": {
   "codemirror_mode": {
    "name": "ipython",
    "version": 3
   },
   "file_extension": ".py",
   "mimetype": "text/x-python",
   "name": "python",
   "nbconvert_exporter": "python",
   "pygments_lexer": "ipython3",
   "version": "3.9.6"
  }
 },
 "nbformat": 4,
 "nbformat_minor": 5
}
