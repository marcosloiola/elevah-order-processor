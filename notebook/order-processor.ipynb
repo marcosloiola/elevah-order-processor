{
 "cells": [
  {
   "cell_type": "code",
   "execution_count": 131,
   "id": "ec6f4528-550c-4030-94d0-a721f864c04d",
   "metadata": {},
   "outputs": [],
   "source": [
    "#import common libs\n",
    "import numpy as np\n",
    "import pandas as pd\n",
    "import os\n",
    "from datetime import datetime\n",
    "\n",
    "#define CSV's paths\n",
    "IN_PATH_CSV = \"../data/entrada-produtos.csv\"\n",
    "OUT_PATH_CSV = \"../data/saida-produtos.csv\"\n",
    "FINAL_PATH_CSV = \"../data/saida-final.csv\"\n",
    "\n",
    "#date format\n",
    "DATE_FORMAT = \"%d/%m/%Y\"\n",
    "\n",
    "#read CSVs\n",
    "ins = pd.read_csv(IN_PATH_CSV)\n",
    "outs = pd.read_csv(OUT_PATH_CSV)\n",
    "\n",
    "data_compra = None\n",
    "data_venda = None\n",
    "final = np.array([[\"codigo-fornecedor\", \"dias\"]])\n",
    "\n",
    "for index, id_fornecedor in enumerate(outs[\"codigo-fornecedor\"]):    \n",
    "    list_of_ins = ins[ins[\"codigo-fornecedor\"] == id_fornecedor]\n",
    "    if not list_of_ins.empty:\n",
    "        codigo_fornecedor = list_of_ins.iloc[0][\"codigo-fornecedor\"]\n",
    "        data_venda = datetime.strptime(outs.iloc[index][\"data-saida\"], DATE_FORMAT)\n",
    "        data_compra = datetime.strptime(list_of_ins.iloc[0][\"data-entrada\"], DATE_FORMAT)\n",
    "        diff = (data_venda - data_compra).days\n",
    "        if diff > 0:\n",
    "            final = np.append(final, [codigo_fornecedor,diff])\n",
    "reshaped_matrix = final.reshape(-1,2) \n",
    "final_df = pd.DataFrame(reshaped_matrix)\n",
    "final_df.to_csv(FINAL_PATH_CSV, index=False, header=False)"
   ]
  },
  {
   "cell_type": "code",
   "execution_count": 144,
   "id": "bb28d829-e071-44d7-a201-af632e22d16e",
   "metadata": {},
   "outputs": [
    {
     "name": "stdout",
     "output_type": "stream",
     "text": [
      "Index(['codigo-fornecedor', 'data-saida', 'data-entrada', 'descricao',\n",
      "       'quantidade', 'dias', 'quantidade_acumulada', 'quantidade_restante'],\n",
      "      dtype='object')\n"
     ]
    },
    {
     "name": "stderr",
     "output_type": "stream",
     "text": [
      "/var/folders/k3/rslfg54n4ng2797x4rrh_cn40000gn/T/ipykernel_43060/3833872325.py:44: DeprecationWarning: DataFrameGroupBy.apply operated on the grouping columns. This behavior is deprecated, and in a future version of pandas the grouping columns will be excluded from the operation. Either pass `include_groups=False` to exclude the groupings or explicitly select the grouping columns after groupby to silence this warning.\n",
      "  final_df = merged_df.groupby('codigo-fornecedor').apply(lambda x: x.apply(update_quantidade_restante, axis=1))\n"
     ]
    }
   ],
   "source": [
    "import pandas as pd\n",
    "import numpy as np\n",
    "from datetime import datetime\n",
    "\n",
    "# Define data format\n",
    "data_format = '%d/%m/%Y'\n",
    "\n",
    "# Define file paths\n",
    "input_file = \"../data/entrada-produtos.csv\"\n",
    "output_file = \"../data/saida-produtos.csv\"\n",
    "final_file = \"../data/saida-final.csv\"\n",
    "merged_file = \"../data/merged.csv\"\n",
    "\n",
    "# Read CSV files\n",
    "input_df = pd.read_csv(input_file)\n",
    "output_df = pd.read_csv(output_file)\n",
    "\n",
    "# Convert date columns to datetime format\n",
    "input_df['data-entrada'] = pd.to_datetime(input_df['data-entrada'], format=data_format)\n",
    "output_df['data-saida'] = pd.to_datetime(output_df['data-saida'], format=data_format)\n",
    "\n",
    "# Merge DataFrames based on 'codigo-fornecedor'\n",
    "merged_df = output_df.merge(input_df, on='codigo-fornecedor')\n",
    "\n",
    "# Agrupar por 'codigo-fornecedor' e ordenar por 'data-entrada'\n",
    "merged_df = merged_df.sort_values(['codigo-fornecedor', 'data-entrada'])\n",
    "\n",
    "# Calculate the difference in days\n",
    "merged_df['dias'] = (merged_df['data-saida'] - merged_df['data-entrada']).dt.days\n",
    "\n",
    "# Calcular a quantidade cumulativa para cada fornecedor e data de entrada\n",
    "#merged_df['quantidade_acumulada'] = merged_df.groupby('codigo-fornecedor')['quantidade'].cumsum()\n",
    "\n",
    "# Criar uma nova coluna para rastrear a quantidade restante em cada saída\n",
    "merged_df['quantidade_restante'] = merged_df['quantidade']\n",
    "merged_df.to_csv(merged_file, index=False)\n",
    "\n",
    "# Função para atualizar a quantidade restante para cada saída\n",
    "def update_quantidade_restante(row):\n",
    "    row['quantidade_restante'] -= 1\n",
    "    return row\n",
    "\n",
    "# Aplicar a função a cada linha, resetando a quantidade restante para cada fornecedor\n",
    "final_df = merged_df.groupby('codigo-fornecedor').apply(lambda x: x.apply(update_quantidade_restante, axis=1))\n",
    "\n",
    "print(final_df.columns)\n",
    "# Filtrar apenas as linhas com data de saída e quantidade restante positiva\n",
    "final_df = final_df[final_df['data-saida'].notna() & final_df['quantidade_restante'] > 0]\n",
    "\n",
    "# Filter for positive differences and select relevant columns\n",
    "final_df = merged_df[merged_df['dias'] > 0][['codigo-fornecedor', 'dias', 'data-entrada','data-saida', 'descricao']]\n",
    "\n",
    "# Save the final DataFrame to a CSV file\n",
    "final_df.to_csv(final_file, index=False)"
   ]
  },
  {
   "cell_type": "code",
   "execution_count": null,
   "id": "34868abe-5cd0-4e20-a6a8-292d92bc8dbc",
   "metadata": {},
   "outputs": [],
   "source": []
  }
 ],
 "metadata": {
  "kernelspec": {
   "display_name": "Python 3 (ipykernel)",
   "language": "python",
   "name": "python3"
  },
  "language_info": {
   "codemirror_mode": {
    "name": "ipython",
    "version": 3
   },
   "file_extension": ".py",
   "mimetype": "text/x-python",
   "name": "python",
   "nbconvert_exporter": "python",
   "pygments_lexer": "ipython3",
   "version": "3.9.6"
  }
 },
 "nbformat": 4,
 "nbformat_minor": 5
}
